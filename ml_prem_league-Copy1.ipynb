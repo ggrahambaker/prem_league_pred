{
 "cells": [
  {
   "cell_type": "code",
   "execution_count": 14,
   "metadata": {},
   "outputs": [],
   "source": [
    "import pandas as pd\n",
    "import numpy as np\n",
    "import seaborn as sns\n",
    "import matplotlib.pyplot as plt\n",
    "np.set_printoptions(suppress=True)\n",
    "pd.set_option('display.float_format', lambda x: '%.3f' % x)\n",
    "import warnings\n",
    "warnings.filterwarnings(action='ignore')\n",
    "\n",
    "\n"
   ]
  },
  {
   "cell_type": "code",
   "execution_count": 2,
   "metadata": {},
   "outputs": [],
   "source": [
    "TEAM_LIST = [\n",
    "        'bournemouth',\n",
    "        'arsenal', \n",
    "        'aston villa', \n",
    "        'birmingham city', \n",
    "        'blackburn rovers',\n",
    "        'blackpool',\n",
    "        'bolton wanderers', \n",
    "        'brighton hove albion', \n",
    "        'burnley', \n",
    "        'cardiff city', \n",
    "        'charlton athletic', \n",
    "        'chelsea', \n",
    "        'crystal palace', \n",
    "        'derby county', \n",
    "        'everton', \n",
    "        'fulham', \n",
    "        'huddersfield town',\n",
    "        'hull city',\n",
    "        'leicester city', \n",
    "        'liverpool', \n",
    "        'manchester city', \n",
    "        'manchester united', \n",
    "        'middlesbrough', \n",
    "        'newcastle united', \n",
    "        'norwich city', \n",
    "        'portsmouth', \n",
    "        'queens park rangers', \n",
    "        'reading', \n",
    "        'sheffield united', \n",
    "        'southampton', \n",
    "        'stoke city', \n",
    "        'sunderland',\n",
    "        'swansea city',\n",
    "        'tottenham hotspur', \n",
    "        'watford', \n",
    "        'west bromwich albion', \n",
    "        'west ham united', \n",
    "        'wigan athletic', \n",
    "        'wolverhampton wanderers'\n",
    "    ]\n",
    "\n",
    "DATE_DICT = {\n",
    "    '18/19': '2018',\n",
    "    '17/18': '2017',\n",
    "    '16/17': '2016',\n",
    "    '15/16': '2015',\n",
    "    '14/15': '2014',\n",
    "    '13/14': '2013',\n",
    "    '12/13': '2012',\n",
    "    '11/12': '2011',\n",
    "    '10/11': '2010',\n",
    "    '09/10': '2009',\n",
    "    '08/09': '2008',\n",
    "    '07/08': '2007',\n",
    "    '06/07': '2006',\n",
    "    '05/06': '2005'}\n",
    "\n",
    "SEASON_LIST = [\n",
    "    2018,\n",
    "    2017,\n",
    "    2016,\n",
    "    2015,\n",
    "    2014,\n",
    "    2013,\n",
    "    2012,\n",
    "    2011,\n",
    "    2010,\n",
    "    2009,\n",
    "    2008,\n",
    "    2007,\n",
    "    2006,\n",
    "    2005]"
   ]
  },
  {
   "cell_type": "code",
   "execution_count": 3,
   "metadata": {},
   "outputs": [],
   "source": [
    "team_arr = []\n",
    "for team in TEAM_LIST:\n",
    "    file = 'teams/' + team + '.csv'\n",
    "    df = pd.read_csv(file, index_col=0)\n",
    "    df['name'] = team\n",
    "    team_arr.append(df)\n",
    "\n",
    "all_year = pd.concat(team_arr)\n",
    "all_year.sort_values(['year', 'Rank'], ascending=[False, True], inplace=True)"
   ]
  },
  {
   "cell_type": "code",
   "execution_count": 4,
   "metadata": {},
   "outputs": [],
   "source": [
    "all_year['squad_age'] = all_year[['g_age', 'd_age', 'm_age', 'a_age']].mean(axis=1)\n",
    "all_year['squad_total_value'] = all_year[['g_total_value', 'd_total_value', 'm_total_value', 'a_total_value']].mean(axis=1)\n",
    "all_year['squad_avg_value'] = all_year[['g_avg_value', 'd_avg_value', 'm_avg_value', 'a_avg_value']].mean(axis=1)\n",
    "all_year['net_spent_transfer'] = all_year['sold'] - all_year['bought'] "
   ]
  },
  {
   "cell_type": "code",
   "execution_count": 10,
   "metadata": {},
   "outputs": [
    {
     "data": {
      "text/html": [
       "<div>\n",
       "<style scoped>\n",
       "    .dataframe tbody tr th:only-of-type {\n",
       "        vertical-align: middle;\n",
       "    }\n",
       "\n",
       "    .dataframe tbody tr th {\n",
       "        vertical-align: top;\n",
       "    }\n",
       "\n",
       "    .dataframe thead th {\n",
       "        text-align: right;\n",
       "    }\n",
       "</style>\n",
       "<table border=\"1\" class=\"dataframe\">\n",
       "  <thead>\n",
       "    <tr style=\"text-align: right;\">\n",
       "      <th></th>\n",
       "      <th>Rank</th>\n",
       "      <th>Points</th>\n",
       "      <th>GD</th>\n",
       "      <th>GF</th>\n",
       "      <th>GA</th>\n",
       "      <th>Win</th>\n",
       "      <th>Draw</th>\n",
       "      <th>Loss</th>\n",
       "      <th>g_age</th>\n",
       "      <th>g_total_value</th>\n",
       "      <th>...</th>\n",
       "      <th>a_age</th>\n",
       "      <th>a_total_value</th>\n",
       "      <th>a_avg_value</th>\n",
       "      <th>bought</th>\n",
       "      <th>sold</th>\n",
       "      <th>attendance</th>\n",
       "      <th>squad_age</th>\n",
       "      <th>squad_total_value</th>\n",
       "      <th>squad_avg_value</th>\n",
       "      <th>net_spent_transfer</th>\n",
       "    </tr>\n",
       "    <tr>\n",
       "      <th>year</th>\n",
       "      <th></th>\n",
       "      <th></th>\n",
       "      <th></th>\n",
       "      <th></th>\n",
       "      <th></th>\n",
       "      <th></th>\n",
       "      <th></th>\n",
       "      <th></th>\n",
       "      <th></th>\n",
       "      <th></th>\n",
       "      <th></th>\n",
       "      <th></th>\n",
       "      <th></th>\n",
       "      <th></th>\n",
       "      <th></th>\n",
       "      <th></th>\n",
       "      <th></th>\n",
       "      <th></th>\n",
       "      <th></th>\n",
       "      <th></th>\n",
       "      <th></th>\n",
       "    </tr>\n",
       "  </thead>\n",
       "  <tbody>\n",
       "    <tr>\n",
       "      <th>2005</th>\n",
       "      <td>10.5</td>\n",
       "      <td>53.15</td>\n",
       "      <td>0.0</td>\n",
       "      <td>47.20</td>\n",
       "      <td>47.20</td>\n",
       "      <td>15.15</td>\n",
       "      <td>7.7</td>\n",
       "      <td>15.15</td>\n",
       "      <td>27.0100</td>\n",
       "      <td>6371250.0</td>\n",
       "      <td>...</td>\n",
       "      <td>24.5435</td>\n",
       "      <td>37109000.0</td>\n",
       "      <td>4577300.0</td>\n",
       "      <td>22546500.0</td>\n",
       "      <td>10487750.0</td>\n",
       "      <td>33875.25</td>\n",
       "      <td>25.290125</td>\n",
       "      <td>27275437.5</td>\n",
       "      <td>3238375.0</td>\n",
       "      <td>-12058750.0</td>\n",
       "    </tr>\n",
       "    <tr>\n",
       "      <th>2006</th>\n",
       "      <td>10.5</td>\n",
       "      <td>52.10</td>\n",
       "      <td>0.0</td>\n",
       "      <td>46.55</td>\n",
       "      <td>46.55</td>\n",
       "      <td>14.10</td>\n",
       "      <td>9.8</td>\n",
       "      <td>14.10</td>\n",
       "      <td>26.6180</td>\n",
       "      <td>7009000.0</td>\n",
       "      <td>...</td>\n",
       "      <td>24.0900</td>\n",
       "      <td>35695000.0</td>\n",
       "      <td>4556300.0</td>\n",
       "      <td>24380500.0</td>\n",
       "      <td>11266500.0</td>\n",
       "      <td>34360.10</td>\n",
       "      <td>24.805000</td>\n",
       "      <td>27442750.0</td>\n",
       "      <td>3031787.5</td>\n",
       "      <td>-13114000.0</td>\n",
       "    </tr>\n",
       "    <tr>\n",
       "      <th>2007</th>\n",
       "      <td>10.5</td>\n",
       "      <td>52.00</td>\n",
       "      <td>0.0</td>\n",
       "      <td>50.10</td>\n",
       "      <td>50.10</td>\n",
       "      <td>14.00</td>\n",
       "      <td>10.0</td>\n",
       "      <td>14.00</td>\n",
       "      <td>26.0610</td>\n",
       "      <td>7511000.0</td>\n",
       "      <td>...</td>\n",
       "      <td>23.6070</td>\n",
       "      <td>40956500.0</td>\n",
       "      <td>4598500.0</td>\n",
       "      <td>42152000.0</td>\n",
       "      <td>21181000.0</td>\n",
       "      <td>36094.35</td>\n",
       "      <td>24.539250</td>\n",
       "      <td>30883250.0</td>\n",
       "      <td>3236925.0</td>\n",
       "      <td>-20971000.0</td>\n",
       "    </tr>\n",
       "    <tr>\n",
       "      <th>2008</th>\n",
       "      <td>10.5</td>\n",
       "      <td>52.15</td>\n",
       "      <td>0.0</td>\n",
       "      <td>47.10</td>\n",
       "      <td>47.10</td>\n",
       "      <td>14.15</td>\n",
       "      <td>9.7</td>\n",
       "      <td>14.15</td>\n",
       "      <td>27.0560</td>\n",
       "      <td>7923500.0</td>\n",
       "      <td>...</td>\n",
       "      <td>24.2085</td>\n",
       "      <td>54311500.0</td>\n",
       "      <td>5399000.0</td>\n",
       "      <td>38520000.0</td>\n",
       "      <td>23954950.0</td>\n",
       "      <td>35601.40</td>\n",
       "      <td>24.815875</td>\n",
       "      <td>36598250.0</td>\n",
       "      <td>3786562.5</td>\n",
       "      <td>-14565050.0</td>\n",
       "    </tr>\n",
       "    <tr>\n",
       "      <th>2009</th>\n",
       "      <td>10.5</td>\n",
       "      <td>52.20</td>\n",
       "      <td>0.0</td>\n",
       "      <td>52.65</td>\n",
       "      <td>52.65</td>\n",
       "      <td>14.20</td>\n",
       "      <td>9.6</td>\n",
       "      <td>14.20</td>\n",
       "      <td>26.8875</td>\n",
       "      <td>8428000.0</td>\n",
       "      <td>...</td>\n",
       "      <td>24.0195</td>\n",
       "      <td>47719500.0</td>\n",
       "      <td>4772500.0</td>\n",
       "      <td>26720500.0</td>\n",
       "      <td>23442700.0</td>\n",
       "      <td>34164.40</td>\n",
       "      <td>24.915125</td>\n",
       "      <td>37995875.0</td>\n",
       "      <td>3809200.0</td>\n",
       "      <td>-3277800.0</td>\n",
       "    </tr>\n",
       "    <tr>\n",
       "      <th>2010</th>\n",
       "      <td>10.5</td>\n",
       "      <td>51.45</td>\n",
       "      <td>0.0</td>\n",
       "      <td>53.15</td>\n",
       "      <td>53.15</td>\n",
       "      <td>13.45</td>\n",
       "      <td>11.1</td>\n",
       "      <td>13.45</td>\n",
       "      <td>27.5135</td>\n",
       "      <td>8756000.0</td>\n",
       "      <td>...</td>\n",
       "      <td>24.3180</td>\n",
       "      <td>53737000.0</td>\n",
       "      <td>5538500.0</td>\n",
       "      <td>31450500.0</td>\n",
       "      <td>15282550.0</td>\n",
       "      <td>35276.65</td>\n",
       "      <td>25.053750</td>\n",
       "      <td>41950000.0</td>\n",
       "      <td>4249837.5</td>\n",
       "      <td>-16167950.0</td>\n",
       "    </tr>\n",
       "    <tr>\n",
       "      <th>2011</th>\n",
       "      <td>10.5</td>\n",
       "      <td>52.35</td>\n",
       "      <td>0.0</td>\n",
       "      <td>53.30</td>\n",
       "      <td>53.30</td>\n",
       "      <td>14.35</td>\n",
       "      <td>9.3</td>\n",
       "      <td>14.35</td>\n",
       "      <td>27.4855</td>\n",
       "      <td>9147000.0</td>\n",
       "      <td>...</td>\n",
       "      <td>24.3995</td>\n",
       "      <td>53563000.0</td>\n",
       "      <td>5455200.0</td>\n",
       "      <td>28812000.0</td>\n",
       "      <td>19369000.0</td>\n",
       "      <td>34604.40</td>\n",
       "      <td>25.295375</td>\n",
       "      <td>40884500.0</td>\n",
       "      <td>4174675.0</td>\n",
       "      <td>-9443000.0</td>\n",
       "    </tr>\n",
       "    <tr>\n",
       "      <th>2012</th>\n",
       "      <td>10.5</td>\n",
       "      <td>51.60</td>\n",
       "      <td>0.0</td>\n",
       "      <td>53.15</td>\n",
       "      <td>53.15</td>\n",
       "      <td>13.60</td>\n",
       "      <td>10.8</td>\n",
       "      <td>13.60</td>\n",
       "      <td>27.2570</td>\n",
       "      <td>10454000.0</td>\n",
       "      <td>...</td>\n",
       "      <td>23.7645</td>\n",
       "      <td>56952500.0</td>\n",
       "      <td>5459000.0</td>\n",
       "      <td>34877500.0</td>\n",
       "      <td>16820400.0</td>\n",
       "      <td>35921.15</td>\n",
       "      <td>25.122500</td>\n",
       "      <td>42344500.0</td>\n",
       "      <td>4255537.5</td>\n",
       "      <td>-18057100.0</td>\n",
       "    </tr>\n",
       "    <tr>\n",
       "      <th>2013</th>\n",
       "      <td>10.5</td>\n",
       "      <td>53.10</td>\n",
       "      <td>0.0</td>\n",
       "      <td>52.60</td>\n",
       "      <td>52.60</td>\n",
       "      <td>15.10</td>\n",
       "      <td>7.8</td>\n",
       "      <td>15.10</td>\n",
       "      <td>26.8205</td>\n",
       "      <td>11009500.0</td>\n",
       "      <td>...</td>\n",
       "      <td>23.6965</td>\n",
       "      <td>67469000.0</td>\n",
       "      <td>6161000.0</td>\n",
       "      <td>41605000.0</td>\n",
       "      <td>18130450.0</td>\n",
       "      <td>36657.45</td>\n",
       "      <td>24.927875</td>\n",
       "      <td>47499500.0</td>\n",
       "      <td>4772187.5</td>\n",
       "      <td>-23474550.0</td>\n",
       "    </tr>\n",
       "    <tr>\n",
       "      <th>2014</th>\n",
       "      <td>10.5</td>\n",
       "      <td>52.35</td>\n",
       "      <td>0.0</td>\n",
       "      <td>48.75</td>\n",
       "      <td>48.75</td>\n",
       "      <td>14.35</td>\n",
       "      <td>9.3</td>\n",
       "      <td>14.35</td>\n",
       "      <td>27.2160</td>\n",
       "      <td>10923000.0</td>\n",
       "      <td>...</td>\n",
       "      <td>24.0150</td>\n",
       "      <td>66419000.0</td>\n",
       "      <td>6215500.0</td>\n",
       "      <td>54873500.0</td>\n",
       "      <td>30325500.0</td>\n",
       "      <td>36175.95</td>\n",
       "      <td>25.065500</td>\n",
       "      <td>46165500.0</td>\n",
       "      <td>4565475.0</td>\n",
       "      <td>-24548000.0</td>\n",
       "    </tr>\n",
       "    <tr>\n",
       "      <th>2015</th>\n",
       "      <td>10.5</td>\n",
       "      <td>51.65</td>\n",
       "      <td>0.0</td>\n",
       "      <td>51.30</td>\n",
       "      <td>51.30</td>\n",
       "      <td>13.65</td>\n",
       "      <td>10.7</td>\n",
       "      <td>13.65</td>\n",
       "      <td>26.4905</td>\n",
       "      <td>11659500.0</td>\n",
       "      <td>...</td>\n",
       "      <td>23.6210</td>\n",
       "      <td>69874000.0</td>\n",
       "      <td>6459000.0</td>\n",
       "      <td>65839000.0</td>\n",
       "      <td>31470250.0</td>\n",
       "      <td>36461.35</td>\n",
       "      <td>24.744500</td>\n",
       "      <td>48249000.0</td>\n",
       "      <td>4697400.0</td>\n",
       "      <td>-34368750.0</td>\n",
       "    </tr>\n",
       "    <tr>\n",
       "      <th>2016</th>\n",
       "      <td>10.5</td>\n",
       "      <td>52.80</td>\n",
       "      <td>0.0</td>\n",
       "      <td>53.20</td>\n",
       "      <td>53.20</td>\n",
       "      <td>14.80</td>\n",
       "      <td>8.4</td>\n",
       "      <td>14.80</td>\n",
       "      <td>27.2675</td>\n",
       "      <td>15149500.0</td>\n",
       "      <td>...</td>\n",
       "      <td>23.8390</td>\n",
       "      <td>87334000.0</td>\n",
       "      <td>7697500.0</td>\n",
       "      <td>74690500.0</td>\n",
       "      <td>39257500.0</td>\n",
       "      <td>35805.10</td>\n",
       "      <td>25.101125</td>\n",
       "      <td>60501000.0</td>\n",
       "      <td>5623850.0</td>\n",
       "      <td>-35433000.0</td>\n",
       "    </tr>\n",
       "    <tr>\n",
       "      <th>2017</th>\n",
       "      <td>10.5</td>\n",
       "      <td>52.05</td>\n",
       "      <td>0.0</td>\n",
       "      <td>50.90</td>\n",
       "      <td>50.90</td>\n",
       "      <td>14.05</td>\n",
       "      <td>9.9</td>\n",
       "      <td>14.05</td>\n",
       "      <td>27.8315</td>\n",
       "      <td>16107500.0</td>\n",
       "      <td>...</td>\n",
       "      <td>24.0525</td>\n",
       "      <td>103857000.0</td>\n",
       "      <td>10139000.0</td>\n",
       "      <td>97847000.0</td>\n",
       "      <td>60711000.0</td>\n",
       "      <td>38273.95</td>\n",
       "      <td>25.326375</td>\n",
       "      <td>68787500.0</td>\n",
       "      <td>7056325.0</td>\n",
       "      <td>-37136000.0</td>\n",
       "    </tr>\n",
       "    <tr>\n",
       "      <th>2018</th>\n",
       "      <td>10.5</td>\n",
       "      <td>53.45</td>\n",
       "      <td>0.0</td>\n",
       "      <td>53.60</td>\n",
       "      <td>53.50</td>\n",
       "      <td>15.45</td>\n",
       "      <td>7.1</td>\n",
       "      <td>15.45</td>\n",
       "      <td>29.2715</td>\n",
       "      <td>26158500.0</td>\n",
       "      <td>...</td>\n",
       "      <td>26.1335</td>\n",
       "      <td>144945500.0</td>\n",
       "      <td>20996000.0</td>\n",
       "      <td>74363500.0</td>\n",
       "      <td>24504750.0</td>\n",
       "      <td>38188.20</td>\n",
       "      <td>27.183000</td>\n",
       "      <td>101672375.0</td>\n",
       "      <td>14191375.0</td>\n",
       "      <td>-49858750.0</td>\n",
       "    </tr>\n",
       "  </tbody>\n",
       "</table>\n",
       "<p>14 rows × 27 columns</p>\n",
       "</div>"
      ],
      "text/plain": [
       "      Rank  Points   GD     GF     GA    Win  Draw   Loss    g_age  \\\n",
       "year                                                                 \n",
       "2005  10.5   53.15  0.0  47.20  47.20  15.15   7.7  15.15  27.0100   \n",
       "2006  10.5   52.10  0.0  46.55  46.55  14.10   9.8  14.10  26.6180   \n",
       "2007  10.5   52.00  0.0  50.10  50.10  14.00  10.0  14.00  26.0610   \n",
       "2008  10.5   52.15  0.0  47.10  47.10  14.15   9.7  14.15  27.0560   \n",
       "2009  10.5   52.20  0.0  52.65  52.65  14.20   9.6  14.20  26.8875   \n",
       "2010  10.5   51.45  0.0  53.15  53.15  13.45  11.1  13.45  27.5135   \n",
       "2011  10.5   52.35  0.0  53.30  53.30  14.35   9.3  14.35  27.4855   \n",
       "2012  10.5   51.60  0.0  53.15  53.15  13.60  10.8  13.60  27.2570   \n",
       "2013  10.5   53.10  0.0  52.60  52.60  15.10   7.8  15.10  26.8205   \n",
       "2014  10.5   52.35  0.0  48.75  48.75  14.35   9.3  14.35  27.2160   \n",
       "2015  10.5   51.65  0.0  51.30  51.30  13.65  10.7  13.65  26.4905   \n",
       "2016  10.5   52.80  0.0  53.20  53.20  14.80   8.4  14.80  27.2675   \n",
       "2017  10.5   52.05  0.0  50.90  50.90  14.05   9.9  14.05  27.8315   \n",
       "2018  10.5   53.45  0.0  53.60  53.50  15.45   7.1  15.45  29.2715   \n",
       "\n",
       "      g_total_value         ...            a_age  a_total_value  a_avg_value  \\\n",
       "year                        ...                                                \n",
       "2005      6371250.0         ...          24.5435     37109000.0    4577300.0   \n",
       "2006      7009000.0         ...          24.0900     35695000.0    4556300.0   \n",
       "2007      7511000.0         ...          23.6070     40956500.0    4598500.0   \n",
       "2008      7923500.0         ...          24.2085     54311500.0    5399000.0   \n",
       "2009      8428000.0         ...          24.0195     47719500.0    4772500.0   \n",
       "2010      8756000.0         ...          24.3180     53737000.0    5538500.0   \n",
       "2011      9147000.0         ...          24.3995     53563000.0    5455200.0   \n",
       "2012     10454000.0         ...          23.7645     56952500.0    5459000.0   \n",
       "2013     11009500.0         ...          23.6965     67469000.0    6161000.0   \n",
       "2014     10923000.0         ...          24.0150     66419000.0    6215500.0   \n",
       "2015     11659500.0         ...          23.6210     69874000.0    6459000.0   \n",
       "2016     15149500.0         ...          23.8390     87334000.0    7697500.0   \n",
       "2017     16107500.0         ...          24.0525    103857000.0   10139000.0   \n",
       "2018     26158500.0         ...          26.1335    144945500.0   20996000.0   \n",
       "\n",
       "          bought        sold  attendance  squad_age  squad_total_value  \\\n",
       "year                                                                     \n",
       "2005  22546500.0  10487750.0    33875.25  25.290125         27275437.5   \n",
       "2006  24380500.0  11266500.0    34360.10  24.805000         27442750.0   \n",
       "2007  42152000.0  21181000.0    36094.35  24.539250         30883250.0   \n",
       "2008  38520000.0  23954950.0    35601.40  24.815875         36598250.0   \n",
       "2009  26720500.0  23442700.0    34164.40  24.915125         37995875.0   \n",
       "2010  31450500.0  15282550.0    35276.65  25.053750         41950000.0   \n",
       "2011  28812000.0  19369000.0    34604.40  25.295375         40884500.0   \n",
       "2012  34877500.0  16820400.0    35921.15  25.122500         42344500.0   \n",
       "2013  41605000.0  18130450.0    36657.45  24.927875         47499500.0   \n",
       "2014  54873500.0  30325500.0    36175.95  25.065500         46165500.0   \n",
       "2015  65839000.0  31470250.0    36461.35  24.744500         48249000.0   \n",
       "2016  74690500.0  39257500.0    35805.10  25.101125         60501000.0   \n",
       "2017  97847000.0  60711000.0    38273.95  25.326375         68787500.0   \n",
       "2018  74363500.0  24504750.0    38188.20  27.183000        101672375.0   \n",
       "\n",
       "      squad_avg_value  net_spent_transfer  \n",
       "year                                       \n",
       "2005        3238375.0         -12058750.0  \n",
       "2006        3031787.5         -13114000.0  \n",
       "2007        3236925.0         -20971000.0  \n",
       "2008        3786562.5         -14565050.0  \n",
       "2009        3809200.0          -3277800.0  \n",
       "2010        4249837.5         -16167950.0  \n",
       "2011        4174675.0          -9443000.0  \n",
       "2012        4255537.5         -18057100.0  \n",
       "2013        4772187.5         -23474550.0  \n",
       "2014        4565475.0         -24548000.0  \n",
       "2015        4697400.0         -34368750.0  \n",
       "2016        5623850.0         -35433000.0  \n",
       "2017        7056325.0         -37136000.0  \n",
       "2018       14191375.0         -49858750.0  \n",
       "\n",
       "[14 rows x 27 columns]"
      ]
     },
     "execution_count": 10,
     "metadata": {},
     "output_type": "execute_result"
    }
   ],
   "source": [
    "all_year.groupby('year').mean()"
   ]
  },
  {
   "cell_type": "code",
   "execution_count": 141,
   "metadata": {
    "scrolled": false
   },
   "outputs": [
    {
     "name": "stdout",
     "output_type": "stream",
     "text": [
      "                       name  count\n",
      "0           manchester city     14\n",
      "1                   arsenal     14\n",
      "2         manchester united     14\n",
      "3                   everton     14\n",
      "4         tottenham hotspur     14\n",
      "5                 liverpool     14\n",
      "6                   chelsea     14\n",
      "7           west ham united     13\n",
      "8          newcastle united     12\n",
      "9                sunderland     11\n",
      "10              aston villa     11\n",
      "11                   fulham     10\n",
      "12               stoke city     10\n",
      "13     west bromwich albion     10\n",
      "14           wigan athletic      8\n",
      "15         blackburn rovers      7\n",
      "16              southampton      7\n",
      "17         bolton wanderers      7\n",
      "18             swansea city      7\n",
      "19           crystal palace      6\n",
      "20                  burnley      5\n",
      "21            middlesbrough      5\n",
      "22                  watford      5\n",
      "23                hull city      5\n",
      "24               portsmouth      5\n",
      "25           leicester city      5\n",
      "26             norwich city      4\n",
      "27  wolverhampton wanderers      4\n",
      "28              bournemouth      4\n",
      "29          birmingham city      4\n",
      "30      queens park rangers      3\n",
      "31                  reading      3\n",
      "32             cardiff city      2\n",
      "33        charlton athletic      2\n",
      "34     brighton hove albion      2\n",
      "35        huddersfield town      2\n",
      "36             derby county      1\n",
      "37                blackpool      1\n",
      "38         sheffield united      1\n"
     ]
    }
   ],
   "source": [
    "#all_year.groupby('Rank').mean()\n",
    "all_year.name.value_counts()\n",
    "names = pd.DataFrame(all_year.name.value_counts().reset_index())\n",
    "names.columns = ['name', 'count']\n"
   ]
  },
  {
   "cell_type": "code",
   "execution_count": 213,
   "metadata": {
    "scrolled": false
   },
   "outputs": [],
   "source": [
    "all_year = pd.merge(all_year, names, on='name')\n",
    "all_year.to_csv('all_year.csv')"
   ]
  },
  {
   "cell_type": "code",
   "execution_count": 217,
   "metadata": {},
   "outputs": [],
   "source": [
    "all_year_with = pd.read_csv('teams/all_last.csv', index_col=0)\n",
    "all_year_with.head()\n",
    "del all_year_with['Points_todel']"
   ]
  },
  {
   "cell_type": "code",
   "execution_count": 256,
   "metadata": {},
   "outputs": [
    {
     "data": {
      "text/plain": [
       "0     100.000\n",
       "1      78.000\n",
       "2      66.000\n",
       "3      79.000\n",
       "4      86.000\n",
       "5      78.000\n",
       "6      89.000\n",
       "7      71.000\n",
       "8      67.000\n",
       "9      50.000\n",
       "10     55.000\n",
       "11     42.000\n",
       "12     43.000\n",
       "13     74.500\n",
       "14     75.000\n",
       "15     76.000\n",
       "16     60.000\n",
       "17     62.000\n",
       "18     84.000\n",
       "19     61.000\n",
       "20     52.000\n",
       "21     58.000\n",
       "22     63.000\n",
       "23     86.000\n",
       "24     76.000\n",
       "25     68.000\n",
       "26     82.000\n",
       "27     71.500\n",
       "28     70.000\n",
       "29     93.000\n",
       "        ...  \n",
       "250    55.000\n",
       "251    36.000\n",
       "252    46.000\n",
       "253    39.000\n",
       "254    41.000\n",
       "255    37.000\n",
       "256    56.000\n",
       "257    56.000\n",
       "258    41.000\n",
       "259    43.000\n",
       "260    50.000\n",
       "261    41.000\n",
       "262    58.000\n",
       "263    52.000\n",
       "264    63.000\n",
       "265    50.000\n",
       "266    50.000\n",
       "267    35.000\n",
       "268    34.000\n",
       "269    37.000\n",
       "270    39.000\n",
       "271    41.000\n",
       "272    57.000\n",
       "273    54.000\n",
       "274    38.000\n",
       "275    41.000\n",
       "276    11.000\n",
       "277    38.000\n",
       "278    47.000\n",
       "279    40.500\n",
       "Name: point_last, Length: 280, dtype: float64"
      ]
     },
     "execution_count": 256,
     "metadata": {},
     "output_type": "execute_result"
    }
   ],
   "source": [
    "all_year_with.point_last"
   ]
  },
  {
   "cell_type": "code",
   "execution_count": null,
   "metadata": {},
   "outputs": [],
   "source": []
  },
  {
   "cell_type": "code",
   "execution_count": null,
   "metadata": {},
   "outputs": [],
   "source": []
  },
  {
   "cell_type": "code",
   "execution_count": null,
   "metadata": {},
   "outputs": [],
   "source": []
  },
  {
   "cell_type": "code",
   "execution_count": 170,
   "metadata": {
    "scrolled": true
   },
   "outputs": [
    {
     "data": {
      "text/plain": [
       "<pandas.core.groupby.groupby.DataFrameGroupBy object at 0x1a1ff9c518>"
      ]
     },
     "execution_count": 170,
     "metadata": {},
     "output_type": "execute_result"
    }
   ],
   "source": [
    "all_year.groupby('name')"
   ]
  },
  {
   "cell_type": "code",
   "execution_count": 74,
   "metadata": {},
   "outputs": [],
   "source": [
    "from scipy import stats\n",
    "def ecdf(data):\n",
    "    x = np.sort(data)\n",
    "    y = np.arange(1, len(data)+1)/len(data)\n",
    "    return x, y"
   ]
  },
  {
   "cell_type": "code",
   "execution_count": 75,
   "metadata": {},
   "outputs": [],
   "source": [
    "x_obs, y_obs = ecdf(all_year.Points)"
   ]
  },
  {
   "cell_type": "code",
   "execution_count": 76,
   "metadata": {},
   "outputs": [],
   "source": [
    "#estimate x and y for theoritical samples for ecdf\n",
    "mean = np.mean(all_year.Points)\n",
    "std = np.std(all_year.Points)\n",
    "samples = np.random.normal(mean, std, 10000)\n",
    "\n",
    "x_theo, y_theo = ecdf(samples)"
   ]
  },
  {
   "cell_type": "code",
   "execution_count": 77,
   "metadata": {},
   "outputs": [
    {
     "data": {
      "image/png": "[encoded data removed]",
      "text/plain": [
       "<Figure size 432x288 with 1 Axes>"
      ]
     },
     "metadata": {
      "needs_background": "light"
     },
     "output_type": "display_data"
    }
   ],
   "source": [
    "#plot ecdfs using the actual and theoritical observations \n",
    "_ = plt.plot(x_obs, y_obs, marker='.', linestyle='none')\n",
    "_ = plt.plot(x_theo, y_theo)"
   ]
  },
  {
   "cell_type": "code",
   "execution_count": 78,
   "metadata": {},
   "outputs": [
    {
     "name": "stdout",
     "output_type": "stream",
     "text": [
      "1641.202621518296 2.4760532732514484e-191\n"
     ]
    }
   ],
   "source": [
    "chi, p_points = stats.chisquare(all_year.Points)\n",
    "print(chi, p_points)"
   ]
  },
  {
   "cell_type": "code",
   "execution_count": 79,
   "metadata": {},
   "outputs": [],
   "source": [
    "log_points = np.log(all_year.Points)"
   ]
  },
  {
   "cell_type": "code",
   "execution_count": 80,
   "metadata": {},
   "outputs": [
    {
     "data": {
      "image/png": "[encoded data removed]",
      "text/plain": [
       "<Figure size 432x288 with 1 Axes>"
      ]
     },
     "metadata": {
      "needs_background": "light"
     },
     "output_type": "display_data"
    }
   ],
   "source": [
    "#plot ecdf for log of Income\n",
    "x_log, y_log = ecdf(log_points)\n",
    "x_theo_log, y_theo_log = ecdf(np.random.normal(np.mean(log_points), np.std(log_points), 10000))\n",
    "\n",
    "_ = plt.plot(x_log, y_log, marker='.', linestyle='none')\n",
    "_ = plt.plot(x_theo_log, y_theo_log)"
   ]
  },
  {
   "cell_type": "code",
   "execution_count": 82,
   "metadata": {
    "scrolled": true
   },
   "outputs": [
    {
     "name": "stdout",
     "output_type": "stream",
     "text": [
      "8.565453475517067 1.0\n"
     ]
    }
   ],
   "source": [
    "chi1, p_log_points = stats.chisquare(log_points)\n",
    "print(chi1, p_log_points)"
   ]
  },
  {
   "cell_type": "code",
   "execution_count": 119,
   "metadata": {},
   "outputs": [
    {
     "data": {
      "text/html": [
       "<div>\n",
       "<style scoped>\n",
       "    .dataframe tbody tr th:only-of-type {\n",
       "        vertical-align: middle;\n",
       "    }\n",
       "\n",
       "    .dataframe tbody tr th {\n",
       "        vertical-align: top;\n",
       "    }\n",
       "\n",
       "    .dataframe thead th {\n",
       "        text-align: right;\n",
       "    }\n",
       "</style>\n",
       "<table border=\"1\" class=\"dataframe\">\n",
       "  <thead>\n",
       "    <tr style=\"text-align: right;\">\n",
       "      <th></th>\n",
       "      <th>Points</th>\n",
       "    </tr>\n",
       "  </thead>\n",
       "  <tbody>\n",
       "    <tr>\n",
       "      <th>0</th>\n",
       "      <td>98.000</td>\n",
       "    </tr>\n",
       "    <tr>\n",
       "      <th>0</th>\n",
       "      <td>97.000</td>\n",
       "    </tr>\n",
       "    <tr>\n",
       "      <th>0</th>\n",
       "      <td>72.000</td>\n",
       "    </tr>\n",
       "    <tr>\n",
       "      <th>0</th>\n",
       "      <td>71.000</td>\n",
       "    </tr>\n",
       "    <tr>\n",
       "      <th>0</th>\n",
       "      <td>70.000</td>\n",
       "    </tr>\n",
       "    <tr>\n",
       "      <th>0</th>\n",
       "      <td>66.000</td>\n",
       "    </tr>\n",
       "    <tr>\n",
       "      <th>0</th>\n",
       "      <td>57.000</td>\n",
       "    </tr>\n",
       "    <tr>\n",
       "      <th>0</th>\n",
       "      <td>54.000</td>\n",
       "    </tr>\n",
       "    <tr>\n",
       "      <th>0</th>\n",
       "      <td>52.000</td>\n",
       "    </tr>\n",
       "    <tr>\n",
       "      <th>0</th>\n",
       "      <td>52.000</td>\n",
       "    </tr>\n",
       "    <tr>\n",
       "      <th>0</th>\n",
       "      <td>50.000</td>\n",
       "    </tr>\n",
       "    <tr>\n",
       "      <th>0</th>\n",
       "      <td>49.000</td>\n",
       "    </tr>\n",
       "    <tr>\n",
       "      <th>0</th>\n",
       "      <td>45.000</td>\n",
       "    </tr>\n",
       "    <tr>\n",
       "      <th>0</th>\n",
       "      <td>45.000</td>\n",
       "    </tr>\n",
       "    <tr>\n",
       "      <th>0</th>\n",
       "      <td>40.000</td>\n",
       "    </tr>\n",
       "    <tr>\n",
       "      <th>0</th>\n",
       "      <td>39.000</td>\n",
       "    </tr>\n",
       "    <tr>\n",
       "      <th>0</th>\n",
       "      <td>36.000</td>\n",
       "    </tr>\n",
       "    <tr>\n",
       "      <th>0</th>\n",
       "      <td>34.000</td>\n",
       "    </tr>\n",
       "    <tr>\n",
       "      <th>0</th>\n",
       "      <td>26.000</td>\n",
       "    </tr>\n",
       "    <tr>\n",
       "      <th>0</th>\n",
       "      <td>16.000</td>\n",
       "    </tr>\n",
       "    <tr>\n",
       "      <th>1</th>\n",
       "      <td>100.000</td>\n",
       "    </tr>\n",
       "    <tr>\n",
       "      <th>1</th>\n",
       "      <td>81.000</td>\n",
       "    </tr>\n",
       "    <tr>\n",
       "      <th>1</th>\n",
       "      <td>77.000</td>\n",
       "    </tr>\n",
       "    <tr>\n",
       "      <th>1</th>\n",
       "      <td>75.000</td>\n",
       "    </tr>\n",
       "    <tr>\n",
       "      <th>1</th>\n",
       "      <td>70.000</td>\n",
       "    </tr>\n",
       "    <tr>\n",
       "      <th>1</th>\n",
       "      <td>63.000</td>\n",
       "    </tr>\n",
       "    <tr>\n",
       "      <th>1</th>\n",
       "      <td>54.000</td>\n",
       "    </tr>\n",
       "    <tr>\n",
       "      <th>1</th>\n",
       "      <td>49.000</td>\n",
       "    </tr>\n",
       "    <tr>\n",
       "      <th>1</th>\n",
       "      <td>47.000</td>\n",
       "    </tr>\n",
       "    <tr>\n",
       "      <th>1</th>\n",
       "      <td>44.000</td>\n",
       "    </tr>\n",
       "    <tr>\n",
       "      <th>...</th>\n",
       "      <td>...</td>\n",
       "    </tr>\n",
       "    <tr>\n",
       "      <th>9</th>\n",
       "      <td>50.000</td>\n",
       "    </tr>\n",
       "    <tr>\n",
       "      <th>3</th>\n",
       "      <td>46.000</td>\n",
       "    </tr>\n",
       "    <tr>\n",
       "      <th>10</th>\n",
       "      <td>43.000</td>\n",
       "    </tr>\n",
       "    <tr>\n",
       "      <th>12</th>\n",
       "      <td>42.000</td>\n",
       "    </tr>\n",
       "    <tr>\n",
       "      <th>11</th>\n",
       "      <td>41.000</td>\n",
       "    </tr>\n",
       "    <tr>\n",
       "      <th>8</th>\n",
       "      <td>39.000</td>\n",
       "    </tr>\n",
       "    <tr>\n",
       "      <th>6</th>\n",
       "      <td>38.000</td>\n",
       "    </tr>\n",
       "    <tr>\n",
       "      <th>0</th>\n",
       "      <td>38.000</td>\n",
       "    </tr>\n",
       "    <tr>\n",
       "      <th>0</th>\n",
       "      <td>34.000</td>\n",
       "    </tr>\n",
       "    <tr>\n",
       "      <th>4</th>\n",
       "      <td>28.000</td>\n",
       "    </tr>\n",
       "    <tr>\n",
       "      <th>13</th>\n",
       "      <td>91.000</td>\n",
       "    </tr>\n",
       "    <tr>\n",
       "      <th>13</th>\n",
       "      <td>83.000</td>\n",
       "    </tr>\n",
       "    <tr>\n",
       "      <th>13</th>\n",
       "      <td>82.000</td>\n",
       "    </tr>\n",
       "    <tr>\n",
       "      <th>13</th>\n",
       "      <td>67.000</td>\n",
       "    </tr>\n",
       "    <tr>\n",
       "      <th>13</th>\n",
       "      <td>65.000</td>\n",
       "    </tr>\n",
       "    <tr>\n",
       "      <th>6</th>\n",
       "      <td>63.000</td>\n",
       "    </tr>\n",
       "    <tr>\n",
       "      <th>11</th>\n",
       "      <td>58.000</td>\n",
       "    </tr>\n",
       "    <tr>\n",
       "      <th>6</th>\n",
       "      <td>56.000</td>\n",
       "    </tr>\n",
       "    <tr>\n",
       "      <th>12</th>\n",
       "      <td>55.000</td>\n",
       "    </tr>\n",
       "    <tr>\n",
       "      <th>7</th>\n",
       "      <td>51.000</td>\n",
       "    </tr>\n",
       "    <tr>\n",
       "      <th>13</th>\n",
       "      <td>50.000</td>\n",
       "    </tr>\n",
       "    <tr>\n",
       "      <th>9</th>\n",
       "      <td>48.000</td>\n",
       "    </tr>\n",
       "    <tr>\n",
       "      <th>1</th>\n",
       "      <td>47.000</td>\n",
       "    </tr>\n",
       "    <tr>\n",
       "      <th>4</th>\n",
       "      <td>45.000</td>\n",
       "    </tr>\n",
       "    <tr>\n",
       "      <th>13</th>\n",
       "      <td>43.000</td>\n",
       "    </tr>\n",
       "    <tr>\n",
       "      <th>10</th>\n",
       "      <td>42.000</td>\n",
       "    </tr>\n",
       "    <tr>\n",
       "      <th>4</th>\n",
       "      <td>38.000</td>\n",
       "    </tr>\n",
       "    <tr>\n",
       "      <th>3</th>\n",
       "      <td>34.000</td>\n",
       "    </tr>\n",
       "    <tr>\n",
       "      <th>9</th>\n",
       "      <td>30.000</td>\n",
       "    </tr>\n",
       "    <tr>\n",
       "      <th>10</th>\n",
       "      <td>15.000</td>\n",
       "    </tr>\n",
       "  </tbody>\n",
       "</table>\n",
       "<p>280 rows × 1 columns</p>\n",
       "</div>"
      ],
      "text/plain": [
       "    Points\n",
       "0   98.000\n",
       "0   97.000\n",
       "0   72.000\n",
       "0   71.000\n",
       "0   70.000\n",
       "0   66.000\n",
       "0   57.000\n",
       "0   54.000\n",
       "0   52.000\n",
       "0   52.000\n",
       "0   50.000\n",
       "0   49.000\n",
       "0   45.000\n",
       "0   45.000\n",
       "0   40.000\n",
       "0   39.000\n",
       "0   36.000\n",
       "0   34.000\n",
       "0   26.000\n",
       "0   16.000\n",
       "1  100.000\n",
       "1   81.000\n",
       "1   77.000\n",
       "1   75.000\n",
       "1   70.000\n",
       "1   63.000\n",
       "1   54.000\n",
       "1   49.000\n",
       "1   47.000\n",
       "1   44.000\n",
       "..     ...\n",
       "9   50.000\n",
       "3   46.000\n",
       "10  43.000\n",
       "12  42.000\n",
       "11  41.000\n",
       "8   39.000\n",
       "6   38.000\n",
       "0   38.000\n",
       "0   34.000\n",
       "4   28.000\n",
       "13  91.000\n",
       "13  83.000\n",
       "13  82.000\n",
       "13  67.000\n",
       "13  65.000\n",
       "6   63.000\n",
       "11  58.000\n",
       "6   56.000\n",
       "12  55.000\n",
       "7   51.000\n",
       "13  50.000\n",
       "9   48.000\n",
       "1   47.000\n",
       "4   45.000\n",
       "13  43.000\n",
       "10  42.000\n",
       "4   38.000\n",
       "3   34.000\n",
       "9   30.000\n",
       "10  15.000\n",
       "\n",
       "[280 rows x 1 columns]"
      ]
     },
     "execution_count": 119,
     "metadata": {},
     "output_type": "execute_result"
    }
   ],
   "source": []
  },
  {
   "cell_type": "code",
   "execution_count": 258,
   "metadata": {},
   "outputs": [],
   "source": [
    "X = all_year_with[NUMERIC]\n",
    "y = all_year_with[POINTS].astype(np.float64)"
   ]
  },
  {
   "cell_type": "code",
   "execution_count": 259,
   "metadata": {},
   "outputs": [],
   "source": [
    "X_train, X_test, y_train, y_test = train_test_split(X,y, test_size=0.3, random_state=42)"
   ]
  },
  {
   "cell_type": "code",
   "execution_count": 260,
   "metadata": {},
   "outputs": [],
   "source": [
    "regr = RandomForestRegressor()"
   ]
  },
  {
   "cell_type": "code",
   "execution_count": 261,
   "metadata": {},
   "outputs": [],
   "source": [
    "parameters = {\"max_depth\": list(range(1,10))\n",
    "              , \"min_samples_split\": [50,100,200]\n",
    "              , \"n_estimators\": list(range(1,5))\n",
    "              , \"max_features\": list(range(2,18))  }"
   ]
  },
  {
   "cell_type": "code",
   "execution_count": 262,
   "metadata": {},
   "outputs": [],
   "source": [
    "regr_cv =  GridSearchCV(regr, parameters, cv=5)"
   ]
  },
  {
   "cell_type": "code",
   "execution_count": 263,
   "metadata": {
    "scrolled": false
   },
   "outputs": [
    {
     "name": "stderr",
     "output_type": "stream",
     "text": [
      "/anaconda3/lib/python3.7/site-packages/sklearn/model_selection/_search.py:841: DeprecationWarning: The default of the `iid` parameter will change from True to False in version 0.22 and will be removed in 0.24. This will change numeric results when test-set sizes are unequal.\n",
      "  DeprecationWarning)\n"
     ]
    },
    {
     "data": {
      "text/plain": [
       "GridSearchCV(cv=5, error_score='raise-deprecating',\n",
       "       estimator=RandomForestRegressor(bootstrap=True, criterion='mse', max_depth=None,\n",
       "           max_features='auto', max_leaf_nodes=None,\n",
       "           min_impurity_decrease=0.0, min_impurity_split=None,\n",
       "           min_samples_leaf=1, min_samples_split=2,\n",
       "           min_weight_fraction_leaf=0.0, n_estimators='warn', n_jobs=None,\n",
       "           oob_score=False, random_state=None, verbose=0, warm_start=False),\n",
       "       fit_params=None, iid='warn', n_jobs=None,\n",
       "       param_grid={'max_depth': [1, 2, 3, 4, 5, 6, 7, 8, 9], 'min_samples_split': [50, 100, 200], 'n_estimators': [1, 2, 3, 4], 'max_features': [2, 3, 4, 5, 6, 7, 8, 9, 10, 11, 12, 13, 14, 15, 16, 17]},\n",
       "       pre_dispatch='2*n_jobs', refit=True, return_train_score='warn',\n",
       "       scoring=None, verbose=0)"
      ]
     },
     "execution_count": 263,
     "metadata": {},
     "output_type": "execute_result"
    }
   ],
   "source": [
    "regr_cv.fit(X_train, y_train)"
   ]
  },
  {
   "cell_type": "code",
   "execution_count": 226,
   "metadata": {},
   "outputs": [
    {
     "name": "stdout",
     "output_type": "stream",
     "text": [
      "Tuned Random Forest Regressor Parameters: {'max_depth': 8, 'max_features': 10, 'min_samples_split': 50, 'n_estimators': 4}\n",
      "Best Score is: 0.6070155455971173\n"
     ]
    }
   ],
   "source": [
    "print(\"Tuned Random Forest Regressor Parameters: {}\".format(regr_cv.best_params_))\n",
    "print(\"Best Score is: {}\".format(regr_cv.best_score_))"
   ]
  },
  {
   "cell_type": "code",
   "execution_count": 227,
   "metadata": {},
   "outputs": [],
   "source": [
    "y_pred = regr_cv.predict(X_test)"
   ]
  },
  {
   "cell_type": "code",
   "execution_count": 228,
   "metadata": {},
   "outputs": [
    {
     "name": "stdout",
     "output_type": "stream",
     "text": [
      "R^2: 0.6687721181500866\n",
      "Root Mean Squared Error: 10.486087617177926\n"
     ]
    }
   ],
   "source": [
    "print(\"R^2: {}\".format(regr_cv.score(X_test, y_test)))\n",
    "rmse = np.sqrt(mean_squared_error(y_test, y_pred))\n",
    "print(\"Root Mean Squared Error: {}\".format(rmse))"
   ]
  },
  {
   "cell_type": "code",
   "execution_count": null,
   "metadata": {},
   "outputs": [],
   "source": []
  },
  {
   "cell_type": "code",
   "execution_count": 229,
   "metadata": {},
   "outputs": [],
   "source": [
    "steps = [('scaler', StandardScaler()),\n",
    "         ('regr', RandomForestRegressor())]\n",
    "\n",
    "pipeline = Pipeline(steps)"
   ]
  },
  {
   "cell_type": "code",
   "execution_count": 230,
   "metadata": {
    "scrolled": true
   },
   "outputs": [
    {
     "data": {
      "text/plain": [
       "Pipeline(memory=None,\n",
       "     steps=[('scaler', StandardScaler(copy=True, with_mean=True, with_std=True)), ('regr', RandomForestRegressor(bootstrap=True, criterion='mse', max_depth=None,\n",
       "           max_features='auto', max_leaf_nodes=None,\n",
       "           min_impurity_decrease=0.0, min_impurity_split=None,\n",
       "           min_samples_leaf=1, min_samples_split=2,\n",
       "           min_weight_fraction_leaf=0.0, n_estimators=10, n_jobs=None,\n",
       "           oob_score=False, random_state=None, verbose=0, warm_start=False))])"
      ]
     },
     "execution_count": 230,
     "metadata": {},
     "output_type": "execute_result"
    }
   ],
   "source": [
    "pipeline.fit(X_train, y_train)"
   ]
  },
  {
   "cell_type": "code",
   "execution_count": 231,
   "metadata": {},
   "outputs": [],
   "source": [
    "y_pred = pipeline.predict(X_test)"
   ]
  },
  {
   "cell_type": "code",
   "execution_count": 232,
   "metadata": {},
   "outputs": [
    {
     "name": "stdout",
     "output_type": "stream",
     "text": [
      "R^2: 0.716682392789919\n",
      "Root Mean Squared Error: 9.698103643791104\n"
     ]
    }
   ],
   "source": [
    "print(\"R^2: {}\".format(pipeline.score(X_test, y_test)))\n",
    "rmse = np.sqrt(mean_squared_error(y_test, y_pred))\n",
    "print(\"Root Mean Squared Error: {}\".format(rmse))"
   ]
  },
  {
   "cell_type": "code",
   "execution_count": 233,
   "metadata": {},
   "outputs": [],
   "source": [
    "parameters = {'regr__max_depth':list(range(1,10)),\n",
    "              'regr__min_samples_split':[50,100,200],\n",
    "              'regr__n_estimators': list(range(1,5)), \n",
    "              'regr__max_features': list(range(2,18)) }\n",
    "\n",
    "\n"
   ]
  },
  {
   "cell_type": "code",
   "execution_count": 234,
   "metadata": {},
   "outputs": [
    {
     "name": "stderr",
     "output_type": "stream",
     "text": [
      "/anaconda3/lib/python3.7/site-packages/sklearn/model_selection/_search.py:841: DeprecationWarning: The default of the `iid` parameter will change from True to False in version 0.22 and will be removed in 0.24. This will change numeric results when test-set sizes are unequal.\n",
      "  DeprecationWarning)\n"
     ]
    },
    {
     "data": {
      "text/plain": [
       "GridSearchCV(cv='warn', error_score='raise-deprecating',\n",
       "       estimator=Pipeline(memory=None,\n",
       "     steps=[('scaler', StandardScaler(copy=True, with_mean=True, with_std=True)), ('regr', RandomForestRegressor(bootstrap=True, criterion='mse', max_depth=None,\n",
       "           max_features='auto', max_leaf_nodes=None,\n",
       "           min_impurity_decrease=0.0, min_impurity_sp...tors=10, n_jobs=None,\n",
       "           oob_score=False, random_state=None, verbose=0, warm_start=False))]),\n",
       "       fit_params=None, iid='warn', n_jobs=None,\n",
       "       param_grid={'regr__max_depth': [1, 2, 3, 4, 5, 6, 7, 8, 9], 'regr__min_samples_split': [50, 100, 200], 'regr__n_estimators': [1, 2, 3, 4], 'regr__max_features': [2, 3, 4, 5, 6, 7, 8, 9, 10, 11, 12, 13, 14, 15, 16, 17]},\n",
       "       pre_dispatch='2*n_jobs', refit=True, return_train_score='warn',\n",
       "       scoring=None, verbose=0)"
      ]
     },
     "execution_count": 234,
     "metadata": {},
     "output_type": "execute_result"
    }
   ],
   "source": [
    "# Instantiate the GridSearchCV object: cv\n",
    "cv = GridSearchCV(pipeline, param_grid=parameters)\n",
    "\n",
    "# Fit to the training set\n",
    "cv.fit(X_train, y_train)\n",
    "\n"
   ]
  },
  {
   "cell_type": "code",
   "execution_count": 235,
   "metadata": {},
   "outputs": [
    {
     "name": "stdout",
     "output_type": "stream",
     "text": [
      "R^2: 0.6157578030164508\n",
      "Root Mean Squared Error: 11.294124397195853\n"
     ]
    }
   ],
   "source": [
    "# Predict the labels of the test set: y_pred\n",
    "y_pred = cv.predict(X_test)\n",
    "\n",
    "# Compute and print metrics\n",
    "print(\"R^2: {}\".format(cv.score(X_test, y_test)))\n",
    "rmse = np.sqrt(mean_squared_error(y_test, y_pred))\n",
    "print(\"Root Mean Squared Error: {}\".format(rmse))"
   ]
  },
  {
   "cell_type": "code",
   "execution_count": 236,
   "metadata": {},
   "outputs": [],
   "source": [
    "## 12 points off is not good!"
   ]
  },
  {
   "cell_type": "code",
   "execution_count": null,
   "metadata": {},
   "outputs": [],
   "source": []
  },
  {
   "cell_type": "code",
   "execution_count": 237,
   "metadata": {},
   "outputs": [],
   "source": [
    "steps = [('scaler', StandardScaler()),\n",
    "         ('br', BayesianRidge())]\n",
    "\n",
    "pipeline = Pipeline(steps)"
   ]
  },
  {
   "cell_type": "code",
   "execution_count": 238,
   "metadata": {},
   "outputs": [
    {
     "data": {
      "text/plain": [
       "Pipeline(memory=None,\n",
       "     steps=[('scaler', StandardScaler(copy=True, with_mean=True, with_std=True)), ('br', BayesianRidge(alpha_1=1e-06, alpha_2=1e-06, compute_score=False, copy_X=True,\n",
       "       fit_intercept=True, lambda_1=1e-06, lambda_2=1e-06, n_iter=300,\n",
       "       normalize=False, tol=0.001, verbose=False))])"
      ]
     },
     "execution_count": 238,
     "metadata": {},
     "output_type": "execute_result"
    }
   ],
   "source": [
    "pipeline.fit(X_train, y_train)"
   ]
  },
  {
   "cell_type": "code",
   "execution_count": 239,
   "metadata": {},
   "outputs": [
    {
     "name": "stdout",
     "output_type": "stream",
     "text": [
      "R^2: 0.613112596764195\n",
      "Root Mean Squared Error: 11.332933315040043\n"
     ]
    }
   ],
   "source": [
    "# Predict the labels of the test set: y_pred\n",
    "y_pred = pipeline.predict(X_test)\n",
    "\n",
    "# Compute and print metrics\n",
    "print(\"R^2: {}\".format(pipeline.score(X_test, y_test)))\n",
    "rmse = np.sqrt(mean_squared_error(y_test, y_pred))\n",
    "print(\"Root Mean Squared Error: {}\".format(rmse))"
   ]
  },
  {
   "cell_type": "code",
   "execution_count": 240,
   "metadata": {},
   "outputs": [],
   "source": [
    "parameters = {'br__n_iter':[1, 100, 200, 300, 400],\n",
    "              'br__tol':[.0001,.001,.01,.1],\n",
    "              'br__alpha_1': [1e-07, 1e-06, 1e-05, 1e-04],\n",
    "              'br__alpha_2': [1e-07, 1e-06, 1e-05, 1e-04]}"
   ]
  },
  {
   "cell_type": "code",
   "execution_count": 241,
   "metadata": {},
   "outputs": [
    {
     "name": "stderr",
     "output_type": "stream",
     "text": [
      "/anaconda3/lib/python3.7/site-packages/sklearn/model_selection/_search.py:841: DeprecationWarning: The default of the `iid` parameter will change from True to False in version 0.22 and will be removed in 0.24. This will change numeric results when test-set sizes are unequal.\n",
      "  DeprecationWarning)\n"
     ]
    },
    {
     "data": {
      "text/plain": [
       "GridSearchCV(cv='warn', error_score='raise-deprecating',\n",
       "       estimator=Pipeline(memory=None,\n",
       "     steps=[('scaler', StandardScaler(copy=True, with_mean=True, with_std=True)), ('br', BayesianRidge(alpha_1=1e-06, alpha_2=1e-06, compute_score=False, copy_X=True,\n",
       "       fit_intercept=True, lambda_1=1e-06, lambda_2=1e-06, n_iter=300,\n",
       "       normalize=False, tol=0.001, verbose=False))]),\n",
       "       fit_params=None, iid='warn', n_jobs=None,\n",
       "       param_grid={'br__n_iter': [1, 100, 200, 300, 400], 'br__tol': [0.0001, 0.001, 0.01, 0.1], 'br__alpha_1': [1e-07, 1e-06, 1e-05, 0.0001], 'br__alpha_2': [1e-07, 1e-06, 1e-05, 0.0001]},\n",
       "       pre_dispatch='2*n_jobs', refit=True, return_train_score='warn',\n",
       "       scoring=None, verbose=0)"
      ]
     },
     "execution_count": 241,
     "metadata": {},
     "output_type": "execute_result"
    }
   ],
   "source": [
    "# Instantiate the GridSearchCV object: cv\n",
    "cv = GridSearchCV(pipeline, param_grid=parameters)\n",
    "\n",
    "# Fit to the training set\n",
    "cv.fit(X_train, y_train)"
   ]
  },
  {
   "cell_type": "code",
   "execution_count": 242,
   "metadata": {},
   "outputs": [
    {
     "name": "stdout",
     "output_type": "stream",
     "text": [
      "R^2: 0.6131165875680277\n",
      "Root Mean Squared Error: 11.332874864403031\n"
     ]
    }
   ],
   "source": [
    "# Predict the labels of the test set: y_pred\n",
    "y_pred = cv.predict(X_test)\n",
    "\n",
    "# Compute and print metrics\n",
    "print(\"R^2: {}\".format(cv.score(X_test, y_test)))\n",
    "rmse = np.sqrt(mean_squared_error(y_test, y_pred))\n",
    "print(\"Root Mean Squared Error: {}\".format(rmse))"
   ]
  },
  {
   "cell_type": "code",
   "execution_count": null,
   "metadata": {},
   "outputs": [],
   "source": []
  },
  {
   "cell_type": "code",
   "execution_count": null,
   "metadata": {},
   "outputs": [],
   "source": []
  },
  {
   "cell_type": "code",
   "execution_count": null,
   "metadata": {},
   "outputs": [],
   "source": []
  },
  {
   "cell_type": "code",
   "execution_count": null,
   "metadata": {},
   "outputs": [],
   "source": []
  },
  {
   "cell_type": "code",
   "execution_count": null,
   "metadata": {},
   "outputs": [],
   "source": []
  },
  {
   "cell_type": "code",
   "execution_count": null,
   "metadata": {},
   "outputs": [],
   "source": []
  },
  {
   "cell_type": "code",
   "execution_count": null,
   "metadata": {},
   "outputs": [],
   "source": []
  },
  {
   "cell_type": "code",
   "execution_count": null,
   "metadata": {},
   "outputs": [],
   "source": []
  },
  {
   "cell_type": "code",
   "execution_count": null,
   "metadata": {},
   "outputs": [],
   "source": []
  },
  {
   "cell_type": "code",
   "execution_count": null,
   "metadata": {},
   "outputs": [],
   "source": []
  },
  {
   "cell_type": "code",
   "execution_count": 9,
   "metadata": {
    "scrolled": true
   },
   "outputs": [
    {
     "data": {
      "text/plain": [
       "Index(['year', 'Rank', 'Points', 'GD', 'GF', 'GA', 'Win', 'Draw', 'Loss',\n",
       "       'g_age', 'g_total_value', 'g_avg_value', 'd_age', 'd_total_value',\n",
       "       'd_avg_value', 'm_age', 'm_total_value', 'm_avg_value', 'a_age',\n",
       "       'a_total_value', 'a_avg_value', 'link', 'bought', 'sold', 'attendance',\n",
       "       'name', 'squad_age', 'squad_total_value', 'squad_avg_value',\n",
       "       'net_spent_transfer'],\n",
       "      dtype='object')"
      ]
     },
     "execution_count": 9,
     "metadata": {},
     "output_type": "execute_result"
    }
   ],
   "source": [
    "all_year.columns"
   ]
  },
  {
   "cell_type": "code",
   "execution_count": null,
   "metadata": {},
   "outputs": [],
   "source": []
  },
  {
   "cell_type": "code",
   "execution_count": null,
   "metadata": {},
   "outputs": [],
   "source": []
  },
  {
   "cell_type": "code",
   "execution_count": 219,
   "metadata": {},
   "outputs": [],
   "source": [
    "from sklearn.pipeline import Pipeline\n",
    "from sklearn.pipeline import FeatureUnion\n",
    "# Import classifiers\n",
    "\n",
    "from sklearn.multiclass import OneVsRestClassifier\n",
    "from sklearn.svm import SVC\n",
    "# Import CountVectorizer\n",
    "from sklearn.model_selection import train_test_split, KFold, GridSearchCV\n",
    "\n",
    "# Import other preprocessing modules\n",
    "from sklearn.preprocessing import FunctionTransformer, StandardScaler, MaxAbsScaler\n",
    "\n",
    "from sklearn.metrics import classification_report, confusion_matrix, accuracy_score, precision_score, roc_curve, auc\n",
    "from sklearn.feature_selection import RFE\n",
    "\n",
    "\n",
    "\n",
    "\n",
    "\n",
    "\n",
    "import matplotlib.pyplot as plt\n",
    "\n",
    "from sklearn.ensemble import RandomForestRegressor\n",
    "from sklearn.metrics import mean_squared_error\n",
    "from sklearn.linear_model import LinearRegression, BayesianRidge\n",
    "\n",
    "## take out wins, gd, gf , ga all parts of point reflection\n",
    "NUMERIC = ['year', 'g_age', 'g_total_value', 'g_avg_value', 'd_age', 'd_total_value',\n",
    "        'd_avg_value', 'm_age', 'm_total_value', 'm_avg_value', 'a_age',\n",
    "        'a_total_value', 'a_avg_value', 'bought', 'sold',\n",
    "        'squad_age', 'squad_total_value', 'squad_avg_value',\n",
    "        'net_spent_transfer', 'count', 'point_last']\n",
    "\n",
    "\n",
    "\n",
    "POINTS = ['Points']"
   ]
  },
  {
   "cell_type": "code",
   "execution_count": 243,
   "metadata": {},
   "outputs": [],
   "source": [
    "X_train, X_test, y_train, y_test = train_test_split(X, y, random_state=42)"
   ]
  },
  {
   "cell_type": "code",
   "execution_count": 244,
   "metadata": {},
   "outputs": [
    {
     "name": "stdout",
     "output_type": "stream",
     "text": [
      "[-0.         -0.          0.          0.         -0.          0.00000008\n",
      "  0.         -0.          0.          0.         -0.          0.\n",
      "  0.          0.          0.         -0.          0.00000002  0.\n",
      " -0.          0.51311709  0.        ]\n"
     ]
    }
   ],
   "source": [
    "from sklearn.linear_model import Lasso\n",
    "\n",
    "# Instantiate a lasso regressor: lasso\n",
    "lasso = Lasso(alpha=.4, normalize=True)\n",
    "\n",
    "# Fit the regressor to the data\n",
    "lasso.fit(all_year[NUMERIC], all_year[POINTS])\n",
    "\n",
    "# Compute and print the coefficients\n",
    "lasso_coef = lasso.coef_\n",
    "print(lasso_coef)"
   ]
  },
  {
   "cell_type": "code",
   "execution_count": 245,
   "metadata": {},
   "outputs": [
    {
     "data": {
      "image/png": "[encoded data removed]",
      "text/plain": [
       "<Figure size 1440x1080 with 1 Axes>"
      ]
     },
     "metadata": {
      "needs_background": "light"
     },
     "output_type": "display_data"
    }
   ],
   "source": [
    "plt.subplots(figsize=(20,15))\n",
    "plt.plot(range(len(all_year[NUMERIC].columns)), lasso_coef)\n",
    "plt.xticks(range(len(all_year[NUMERIC].columns)), all_year[NUMERIC].columns.values, rotation=60)\n",
    "plt.margins(0.02)\n",
    "plt.show()"
   ]
  },
  {
   "cell_type": "code",
   "execution_count": 246,
   "metadata": {},
   "outputs": [
    {
     "data": {
      "text/plain": [
       "LinearRegression(copy_X=True, fit_intercept=True, n_jobs=None,\n",
       "         normalize=False)"
      ]
     },
     "execution_count": 246,
     "metadata": {},
     "output_type": "execute_result"
    }
   ],
   "source": [
    "lm = LinearRegression()\n",
    "lm.fit(X_train, y_train)\n"
   ]
  },
  {
   "cell_type": "code",
   "execution_count": 247,
   "metadata": {},
   "outputs": [
    {
     "name": "stdout",
     "output_type": "stream",
     "text": [
      "Estimated intercept coefficient: [2386.12229097]\n"
     ]
    }
   ],
   "source": [
    "print('Estimated intercept coefficient: {}'.format(lm.intercept_))"
   ]
  },
  {
   "cell_type": "code",
   "execution_count": 248,
   "metadata": {},
   "outputs": [
    {
     "name": "stdout",
     "output_type": "stream",
     "text": [
      "Number of coefficients: 1\n"
     ]
    }
   ],
   "source": [
    "print('Number of coefficients: {}'.format(len(lm.coef_)))"
   ]
  },
  {
   "cell_type": "code",
   "execution_count": 249,
   "metadata": {},
   "outputs": [
    {
     "ename": "Exception",
     "evalue": "Data must be 1-dimensional",
     "output_type": "error",
     "traceback": [
      "\u001b[0;31m---------------------------------------------------------------------------\u001b[0m",
      "\u001b[0;31mException\u001b[0m                                 Traceback (most recent call last)",
      "\u001b[0;32m<ipython-input-249-eddbf12b606e>\u001b[0m in \u001b[0;36m<module>\u001b[0;34m\u001b[0m\n\u001b[1;32m      1\u001b[0m \u001b[0mX_cols\u001b[0m \u001b[0;34m=\u001b[0m \u001b[0mX_train\u001b[0m\u001b[0;34m.\u001b[0m\u001b[0mcolumns\u001b[0m\u001b[0;34m\u001b[0m\u001b[0;34m\u001b[0m\u001b[0m\n\u001b[0;32m----> 2\u001b[0;31m \u001b[0mpd\u001b[0m\u001b[0;34m.\u001b[0m\u001b[0mDataFrame\u001b[0m\u001b[0;34m(\u001b[0m\u001b[0;34m{\u001b[0m\u001b[0;34m'features'\u001b[0m\u001b[0;34m:\u001b[0m \u001b[0mX_cols\u001b[0m\u001b[0;34m,\u001b[0m \u001b[0;34m'estimatedCoefficients'\u001b[0m\u001b[0;34m:\u001b[0m \u001b[0mlm\u001b[0m\u001b[0;34m.\u001b[0m\u001b[0mcoef_\u001b[0m\u001b[0;34m}\u001b[0m\u001b[0;34m)\u001b[0m\u001b[0;34m[\u001b[0m\u001b[0;34m[\u001b[0m\u001b[0;34m'features'\u001b[0m\u001b[0;34m,\u001b[0m \u001b[0;34m'estimatedCoefficients'\u001b[0m\u001b[0;34m]\u001b[0m\u001b[0;34m]\u001b[0m\u001b[0;34m\u001b[0m\u001b[0;34m\u001b[0m\u001b[0m\n\u001b[0m",
      "\u001b[0;32m/anaconda3/lib/python3.7/site-packages/pandas/core/frame.py\u001b[0m in \u001b[0;36m__init__\u001b[0;34m(self, data, index, columns, dtype, copy)\u001b[0m\n\u001b[1;32m    346\u001b[0m                                  dtype=dtype, copy=copy)\n\u001b[1;32m    347\u001b[0m         \u001b[0;32melif\u001b[0m \u001b[0misinstance\u001b[0m\u001b[0;34m(\u001b[0m\u001b[0mdata\u001b[0m\u001b[0;34m,\u001b[0m \u001b[0mdict\u001b[0m\u001b[0;34m)\u001b[0m\u001b[0;34m:\u001b[0m\u001b[0;34m\u001b[0m\u001b[0;34m\u001b[0m\u001b[0m\n\u001b[0;32m--> 348\u001b[0;31m             \u001b[0mmgr\u001b[0m \u001b[0;34m=\u001b[0m \u001b[0mself\u001b[0m\u001b[0;34m.\u001b[0m\u001b[0m_init_dict\u001b[0m\u001b[0;34m(\u001b[0m\u001b[0mdata\u001b[0m\u001b[0;34m,\u001b[0m \u001b[0mindex\u001b[0m\u001b[0;34m,\u001b[0m \u001b[0mcolumns\u001b[0m\u001b[0;34m,\u001b[0m \u001b[0mdtype\u001b[0m\u001b[0;34m=\u001b[0m\u001b[0mdtype\u001b[0m\u001b[0;34m)\u001b[0m\u001b[0;34m\u001b[0m\u001b[0;34m\u001b[0m\u001b[0m\n\u001b[0m\u001b[1;32m    349\u001b[0m         \u001b[0;32melif\u001b[0m \u001b[0misinstance\u001b[0m\u001b[0;34m(\u001b[0m\u001b[0mdata\u001b[0m\u001b[0;34m,\u001b[0m \u001b[0mma\u001b[0m\u001b[0;34m.\u001b[0m\u001b[0mMaskedArray\u001b[0m\u001b[0;34m)\u001b[0m\u001b[0;34m:\u001b[0m\u001b[0;34m\u001b[0m\u001b[0;34m\u001b[0m\u001b[0m\n\u001b[1;32m    350\u001b[0m             \u001b[0;32mimport\u001b[0m \u001b[0mnumpy\u001b[0m\u001b[0;34m.\u001b[0m\u001b[0mma\u001b[0m\u001b[0;34m.\u001b[0m\u001b[0mmrecords\u001b[0m \u001b[0;32mas\u001b[0m \u001b[0mmrecords\u001b[0m\u001b[0;34m\u001b[0m\u001b[0;34m\u001b[0m\u001b[0m\n",
      "\u001b[0;32m/anaconda3/lib/python3.7/site-packages/pandas/core/frame.py\u001b[0m in \u001b[0;36m_init_dict\u001b[0;34m(self, data, index, columns, dtype)\u001b[0m\n\u001b[1;32m    457\u001b[0m             \u001b[0marrays\u001b[0m \u001b[0;34m=\u001b[0m \u001b[0;34m[\u001b[0m\u001b[0mdata\u001b[0m\u001b[0;34m[\u001b[0m\u001b[0mk\u001b[0m\u001b[0;34m]\u001b[0m \u001b[0;32mfor\u001b[0m \u001b[0mk\u001b[0m \u001b[0;32min\u001b[0m \u001b[0mkeys\u001b[0m\u001b[0;34m]\u001b[0m\u001b[0;34m\u001b[0m\u001b[0;34m\u001b[0m\u001b[0m\n\u001b[1;32m    458\u001b[0m \u001b[0;34m\u001b[0m\u001b[0m\n\u001b[0;32m--> 459\u001b[0;31m         \u001b[0;32mreturn\u001b[0m \u001b[0m_arrays_to_mgr\u001b[0m\u001b[0;34m(\u001b[0m\u001b[0marrays\u001b[0m\u001b[0;34m,\u001b[0m \u001b[0mdata_names\u001b[0m\u001b[0;34m,\u001b[0m \u001b[0mindex\u001b[0m\u001b[0;34m,\u001b[0m \u001b[0mcolumns\u001b[0m\u001b[0;34m,\u001b[0m \u001b[0mdtype\u001b[0m\u001b[0;34m=\u001b[0m\u001b[0mdtype\u001b[0m\u001b[0;34m)\u001b[0m\u001b[0;34m\u001b[0m\u001b[0;34m\u001b[0m\u001b[0m\n\u001b[0m\u001b[1;32m    460\u001b[0m \u001b[0;34m\u001b[0m\u001b[0m\n\u001b[1;32m    461\u001b[0m     \u001b[0;32mdef\u001b[0m \u001b[0m_init_ndarray\u001b[0m\u001b[0;34m(\u001b[0m\u001b[0mself\u001b[0m\u001b[0;34m,\u001b[0m \u001b[0mvalues\u001b[0m\u001b[0;34m,\u001b[0m \u001b[0mindex\u001b[0m\u001b[0;34m,\u001b[0m \u001b[0mcolumns\u001b[0m\u001b[0;34m,\u001b[0m \u001b[0mdtype\u001b[0m\u001b[0;34m=\u001b[0m\u001b[0;32mNone\u001b[0m\u001b[0;34m,\u001b[0m \u001b[0mcopy\u001b[0m\u001b[0;34m=\u001b[0m\u001b[0;32mFalse\u001b[0m\u001b[0;34m)\u001b[0m\u001b[0;34m:\u001b[0m\u001b[0;34m\u001b[0m\u001b[0;34m\u001b[0m\u001b[0m\n",
      "\u001b[0;32m/anaconda3/lib/python3.7/site-packages/pandas/core/frame.py\u001b[0m in \u001b[0;36m_arrays_to_mgr\u001b[0;34m(arrays, arr_names, index, columns, dtype)\u001b[0m\n\u001b[1;32m   7357\u001b[0m \u001b[0;34m\u001b[0m\u001b[0m\n\u001b[1;32m   7358\u001b[0m     \u001b[0;31m# don't force copy because getting jammed in an ndarray anyway\u001b[0m\u001b[0;34m\u001b[0m\u001b[0;34m\u001b[0m\u001b[0;34m\u001b[0m\u001b[0m\n\u001b[0;32m-> 7359\u001b[0;31m     \u001b[0marrays\u001b[0m \u001b[0;34m=\u001b[0m \u001b[0m_homogenize\u001b[0m\u001b[0;34m(\u001b[0m\u001b[0marrays\u001b[0m\u001b[0;34m,\u001b[0m \u001b[0mindex\u001b[0m\u001b[0;34m,\u001b[0m \u001b[0mdtype\u001b[0m\u001b[0;34m)\u001b[0m\u001b[0;34m\u001b[0m\u001b[0;34m\u001b[0m\u001b[0m\n\u001b[0m\u001b[1;32m   7360\u001b[0m \u001b[0;34m\u001b[0m\u001b[0m\n\u001b[1;32m   7361\u001b[0m     \u001b[0;31m# from BlockManager perspective\u001b[0m\u001b[0;34m\u001b[0m\u001b[0;34m\u001b[0m\u001b[0;34m\u001b[0m\u001b[0m\n",
      "\u001b[0;32m/anaconda3/lib/python3.7/site-packages/pandas/core/frame.py\u001b[0m in \u001b[0;36m_homogenize\u001b[0;34m(data, index, dtype)\u001b[0m\n\u001b[1;32m   7667\u001b[0m                 \u001b[0mv\u001b[0m \u001b[0;34m=\u001b[0m \u001b[0mlib\u001b[0m\u001b[0;34m.\u001b[0m\u001b[0mfast_multiget\u001b[0m\u001b[0;34m(\u001b[0m\u001b[0mv\u001b[0m\u001b[0;34m,\u001b[0m \u001b[0moindex\u001b[0m\u001b[0;34m.\u001b[0m\u001b[0mvalues\u001b[0m\u001b[0;34m,\u001b[0m \u001b[0mdefault\u001b[0m\u001b[0;34m=\u001b[0m\u001b[0mnp\u001b[0m\u001b[0;34m.\u001b[0m\u001b[0mnan\u001b[0m\u001b[0;34m)\u001b[0m\u001b[0;34m\u001b[0m\u001b[0;34m\u001b[0m\u001b[0m\n\u001b[1;32m   7668\u001b[0m             v = _sanitize_array(v, index, dtype=dtype, copy=False,\n\u001b[0;32m-> 7669\u001b[0;31m                                 raise_cast_failure=False)\n\u001b[0m\u001b[1;32m   7670\u001b[0m \u001b[0;34m\u001b[0m\u001b[0m\n\u001b[1;32m   7671\u001b[0m         \u001b[0mhomogenized\u001b[0m\u001b[0;34m.\u001b[0m\u001b[0mappend\u001b[0m\u001b[0;34m(\u001b[0m\u001b[0mv\u001b[0m\u001b[0;34m)\u001b[0m\u001b[0;34m\u001b[0m\u001b[0;34m\u001b[0m\u001b[0m\n",
      "\u001b[0;32m/anaconda3/lib/python3.7/site-packages/pandas/core/series.py\u001b[0m in \u001b[0;36m_sanitize_array\u001b[0;34m(data, index, dtype, copy, raise_cast_failure)\u001b[0m\n\u001b[1;32m   4163\u001b[0m     \u001b[0;32melif\u001b[0m \u001b[0msubarr\u001b[0m\u001b[0;34m.\u001b[0m\u001b[0mndim\u001b[0m \u001b[0;34m>\u001b[0m \u001b[0;36m1\u001b[0m\u001b[0;34m:\u001b[0m\u001b[0;34m\u001b[0m\u001b[0;34m\u001b[0m\u001b[0m\n\u001b[1;32m   4164\u001b[0m         \u001b[0;32mif\u001b[0m \u001b[0misinstance\u001b[0m\u001b[0;34m(\u001b[0m\u001b[0mdata\u001b[0m\u001b[0;34m,\u001b[0m \u001b[0mnp\u001b[0m\u001b[0;34m.\u001b[0m\u001b[0mndarray\u001b[0m\u001b[0;34m)\u001b[0m\u001b[0;34m:\u001b[0m\u001b[0;34m\u001b[0m\u001b[0;34m\u001b[0m\u001b[0m\n\u001b[0;32m-> 4165\u001b[0;31m             \u001b[0;32mraise\u001b[0m \u001b[0mException\u001b[0m\u001b[0;34m(\u001b[0m\u001b[0;34m'Data must be 1-dimensional'\u001b[0m\u001b[0;34m)\u001b[0m\u001b[0;34m\u001b[0m\u001b[0;34m\u001b[0m\u001b[0m\n\u001b[0m\u001b[1;32m   4166\u001b[0m         \u001b[0;32melse\u001b[0m\u001b[0;34m:\u001b[0m\u001b[0;34m\u001b[0m\u001b[0;34m\u001b[0m\u001b[0m\n\u001b[1;32m   4167\u001b[0m             \u001b[0msubarr\u001b[0m \u001b[0;34m=\u001b[0m \u001b[0mcom\u001b[0m\u001b[0;34m.\u001b[0m\u001b[0m_asarray_tuplesafe\u001b[0m\u001b[0;34m(\u001b[0m\u001b[0mdata\u001b[0m\u001b[0;34m,\u001b[0m \u001b[0mdtype\u001b[0m\u001b[0;34m=\u001b[0m\u001b[0mdtype\u001b[0m\u001b[0;34m)\u001b[0m\u001b[0;34m\u001b[0m\u001b[0;34m\u001b[0m\u001b[0m\n",
      "\u001b[0;31mException\u001b[0m: Data must be 1-dimensional"
     ]
    }
   ],
   "source": [
    "X_cols = X_train.columns\n",
    "pd.DataFrame({'features': X_cols, 'estimatedCoefficients': lm.coef_})[['features', 'estimatedCoefficients']]"
   ]
  },
  {
   "cell_type": "code",
   "execution_count": 250,
   "metadata": {},
   "outputs": [],
   "source": [
    "import statsmodels.api as sm\n",
    "from statsmodels.formula.api import ols"
   ]
  },
  {
   "cell_type": "code",
   "execution_count": 257,
   "metadata": {},
   "outputs": [
    {
     "data": {
      "text/plain": [
       "Index(['year', 'Rank', 'Points', 'GD', 'GF', 'GA', 'Win', 'Draw', 'Loss',\n",
       "       'g_age', 'g_total_value', 'g_avg_value', 'd_age', 'd_total_value',\n",
       "       'd_avg_value', 'm_age', 'm_total_value', 'm_avg_value', 'a_age',\n",
       "       'a_total_value', 'a_avg_value', 'link', 'bought', 'sold', 'attendance',\n",
       "       'name', 'squad_age', 'squad_total_value', 'squad_avg_value',\n",
       "       'net_spent_transfer', 'count_x', 'count_y', 'count_x', 'count_y',\n",
       "       'rank -1', 'rank -2', 'rank -3', 'rank -4', 'rank -5', 'point_last',\n",
       "       'count'],\n",
       "      dtype='object')"
      ]
     },
     "execution_count": 257,
     "metadata": {},
     "output_type": "execute_result"
    }
   ],
   "source": [
    "all_year.columns"
   ]
  },
  {
   "cell_type": "code",
   "execution_count": 253,
   "metadata": {},
   "outputs": [
    {
     "name": "stdout",
     "output_type": "stream",
     "text": [
      "                            OLS Regression Results                            \n",
      "==============================================================================\n",
      "Dep. Variable:                 Points   R-squared:                       0.582\n",
      "Model:                            OLS   Adj. R-squared:                  0.579\n",
      "Method:                 Least Squares   F-statistic:                     192.7\n",
      "Date:                Mon, 01 Jul 2019   Prob (F-statistic):           3.55e-53\n",
      "Time:                        09:42:45   Log-Likelihood:                -1076.8\n",
      "No. Observations:                 280   AIC:                             2160.\n",
      "Df Residuals:                     277   BIC:                             2171.\n",
      "Df Model:                           2                                         \n",
      "Covariance Type:            nonrobust                                         \n",
      "=====================================================================================\n",
      "                        coef    std err          t      P>|t|      [0.025      0.975]\n",
      "-------------------------------------------------------------------------------------\n",
      "Intercept            26.3471      1.821     14.470      0.000      22.763      29.931\n",
      "count                 1.5943      0.205      7.784      0.000       1.191       1.997\n",
      "point_last                 0          0        nan        nan           0           0\n",
      "squad_total_value  2.164e-07   2.05e-08     10.556      0.000    1.76e-07    2.57e-07\n",
      "==============================================================================\n",
      "Omnibus:                        2.914   Durbin-Watson:                   1.386\n",
      "Prob(Omnibus):                  0.233   Jarque-Bera (JB):                2.677\n",
      "Skew:                           0.162   Prob(JB):                        0.262\n",
      "Kurtosis:                       3.353   Cond. No.                          inf\n",
      "==============================================================================\n",
      "\n",
      "Warnings:\n",
      "[1] Standard Errors assume that the covariance matrix of the errors is correctly specified.\n",
      "[2] The smallest eigenvalue is      0. This might indicate that there are\n",
      "strong multicollinearity problems or that the design matrix is singular.\n"
     ]
    }
   ],
   "source": [
    "m = ols('Points ~ count + point_last + squad_total_value',all_year).fit()\n",
    "print(m.summary())"
   ]
  },
  {
   "cell_type": "code",
   "execution_count": null,
   "metadata": {},
   "outputs": [],
   "source": [
    "#specify independent and response/dependent variable: X, y\n",
    "X = df5.drop('Income', axis=1)\n",
    "y = df5.Income"
   ]
  },
  {
   "cell_type": "code",
   "execution_count": null,
   "metadata": {},
   "outputs": [],
   "source": []
  },
  {
   "cell_type": "code",
   "execution_count": null,
   "metadata": {},
   "outputs": [],
   "source": []
  },
  {
   "cell_type": "code",
   "execution_count": null,
   "metadata": {},
   "outputs": [],
   "source": []
  },
  {
   "cell_type": "code",
   "execution_count": null,
   "metadata": {},
   "outputs": [],
   "source": []
  },
  {
   "cell_type": "code",
   "execution_count": null,
   "metadata": {},
   "outputs": [],
   "source": []
  },
  {
   "cell_type": "code",
   "execution_count": null,
   "metadata": {},
   "outputs": [],
   "source": []
  }
 ],
 "metadata": {
  "kernelspec": {
   "display_name": "Python 3",
   "language": "python",
   "name": "python3"
  },
  "language_info": {
   "codemirror_mode": {
    "name": "ipython",
    "version": 3
   },
   "file_extension": ".py",
   "mimetype": "text/x-python",
   "name": "python",
   "nbconvert_exporter": "python",
   "pygments_lexer": "ipython3",
   "version": "3.7.1"
  }
 },
 "nbformat": 4,
 "nbformat_minor": 2
}

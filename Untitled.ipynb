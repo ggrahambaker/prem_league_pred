{
 "cells": [
  {
   "cell_type": "code",
   "execution_count": null,
   "metadata": {},
   "outputs": [],
   "source": [
    "import pandas as pd\n",
    "from bs4 import BeautifulSoup\n",
    "import requests\n",
    "r = requests.get('https://www.asid.org/find-a-pro/mariechan')\n",
    "print(r.text)#[:200]\n",
    "\n",
    "\n",
    "soup = BeautifulSoup(r.text,\n",
    "\t\t\t\t\t 'html.parser')\n",
    "#<li class=\"searchresult\">\n",
    "\n",
    "#soup.li['searchresult']\n",
    "res = soup.select('.fapip-view-header-title.fapip-view-header-subtitle')\n",
    "    \n",
    "    \n",
    "\n"
   ]
  }
 ],
 "metadata": {
  "kernelspec": {
   "display_name": "Python 3",
   "language": "python",
   "name": "python3"
  },
  "language_info": {
   "codemirror_mode": {
    "name": "ipython",
    "version": 3
   },
   "file_extension": ".py",
   "mimetype": "text/x-python",
   "name": "python",
   "nbconvert_exporter": "python",
   "pygments_lexer": "ipython3",
   "version": "3.7.1"
  }
 },
 "nbformat": 4,
 "nbformat_minor": 2
}
